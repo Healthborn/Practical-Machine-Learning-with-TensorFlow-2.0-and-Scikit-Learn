{
 "cells": [
  {
   "cell_type": "code",
   "execution_count": 1,
   "metadata": {},
   "outputs": [],
   "source": [
    "%config IPCompleter.greedy = True\n",
    "%config InlineBackend.figure_format = 'retina'\n",
    "%matplotlib inline\n",
    "%load_ext tensorboard\n",
    "\n",
    "import matplotlib.pyplot as plt\n",
    "import numpy as np\n",
    "import pandas as pd\n",
    "import seaborn as sn\n",
    "import tensorflow as tf\n",
    "import os\n",
    "from datetime import datetime\n",
    "import tensorflow as tf\n",
    "import sklearn\n",
    "import time\n",
    "\n",
    "pd.set_option('mode.chained_assignment', None)\n",
    "sn.set(rc={'figure.figsize':(9,9)})\n",
    "sn.set(font_scale=1.4)\n",
    "\n",
    "# make results reproducible\n",
    "seed = 0\n",
    "np.random.seed(seed)\n",
    "tf.random.set_seed(13)"
   ]
  },
  {
   "cell_type": "markdown",
   "metadata": {},
   "source": [
    "# Language models\n",
    "\n",
    "A statistical **language model** is a probability distribution over sequences of words. Given such a sequence, say of length $m$, it assigns a probability $P(w_1,\\ldots,w_m)$ to the whole sequence. As the number of words coming before a word $w_i$, varies depending on its location\n",
    "in the input document, $P(w_1,\\ldots,w_m)$ is usually conditioned on a window of $n$ previous words rather than all previous words:\n",
    "\n",
    "$$ P(w_1,\\ldots,w_m) = \\prod^m_{i=1} P(w_i\\mid w_1,\\ldots,w_{i-1})\n",
    " \\approx \\prod^m_{i=1} P(w_i\\mid w_{i-n},\\ldots,w_{i-1}) $$\n",
    "\n",
    "This equation is especially useful for translation systems and speech systems as it is used to  determining whether a word sequence is an accurate translation of an input sentence. In existing language translation systems,\n",
    "for each phrase / sentence translation, the software generates a number of alternative word sequences (e.g. {I have, I had, I has, me have, me\n",
    "had}) and scores them to identify the most likely translation sequence.\n",
    "In machine translation, the model chooses the best word ordering\n",
    "for an input phrase by choosing the most probable based on a language model, scoring each output.\n",
    "\n",
    "Data sparsity is a major problem in building language models, as we will see. Most possible word sequences are not observed in training. One solution is to make the assumption that the probability of a word only depends on the previous $n$ words. This is known as an $n$-gram model or unigram model when $n=1$. The unigram model is also known as the bag of words model. (We saw how to compute $n$-grams in Keras in the second video of this section)\n",
    "\n",
    "Estimating the *relative likelihood* of different phrases is useful in many *natural language processing* applications, especially those that generate text as an output. Language modeling is used in speech recognition, machine translation, part-of-speech tagging, parsing, Optical Character Recognition, handwriting recognition, information retrieval and other applications.\n",
    "\n",
    "## n-gram Language models\n",
    "\n",
    "In an $n$-gram model, the probability $P(w_1,\\ldots,w_m)$ of observing the sentence $w_1,\\ldots,w_m$ is approximated as\n",
    "\n",
    "$$\n",
    "P(w_1,\\ldots,w_m) = \\prod^m_{i=1} P(w_i\\mid w_1,\\ldots,w_{i-1})\n",
    " \\approx \\prod^m_{i=1} P(w_i\\mid w_{i-(n-1)},\\ldots,w_{i-1})\n",
    "$$\n",
    "\n",
    "It is assumed that the probability of observing the $i^{th}$ word $w_i$ in the context history of the preceding $i-1$ words can be approximated by the probability of observing it in the shortened context history of the preceding $n-1$ words ($n^{th}$ order Markov property).\n",
    "\n",
    "The conditional probability can be calculated from $n$-gram model frequency counts:\n",
    "\n",
    "$$\n",
    "P(w_i\\mid w_{i-(n-1)},\\ldots,w_{i-1}) = \\frac{\\mathrm{count}(w_{i-(n-1)},\\ldots,w_{i-1},w_i)}{\\mathrm{count}(w_{i-(n-1)},\\ldots,w_{i-1})}\n",
    "$$\n",
    "\n",
    "The terms **bigram** and **trigram** language models denote $n$-gram models with $n=2$ and $n=3$, respectively.\n",
    "\n",
    "Typically, the $n$-gram model probabilities are not derived directly from frequency counts, because models derived this way have severe problems when confronted with any $n$-grams that have not been explicitly seen before. Instead, some form of smoothing is necessary, assigning some of the total probability mass to unseen words or $n$-grams. Various methods are used, from simple \"add-one\" smoothing (assign a count of 1 to unseen $n$-grams, as an uninformative prior) to more sophisticated models, such as Good-Turing discounting or back-off models.\n",
    "\n",
    "n-gram language models have two main issues, that is the models are very sparse, as the word sequence under evaluation may never appear in our corpus, and storage issues, as we need to store all the $n$-grams that we saw in our corpus, which increases as $n$ increases.\n",
    "\n",
    "## Neural Network Language models\n",
    "\n",
    "Neural language models (or *continuous space language models*) use continuous representations or embeddings of words to make their predictions.\n",
    "\n",
    "Continuous space embeddings help to alleviate the **curse of dimensionality** in language modeling (As we saw in the first video with word embeddings), specifically as language models are trained on larger and larger texts, the number of unique words (the vocabulary) increases. The number of possible sequences of words increases exponentially with the size of the vocabulary, causing a data sparsity problem because of the exponentially many sequences. Thus, statistics are needed to properly estimate probabilities. Neural networks avoid this problem by representing words in a distributed way, as non-linear combinations of weights in a neural net. An alternate description is that a neural net approximates the language function. The neural net architecture might be feed-forward or recurrent, and while the former is simpler the latter is more common.\n",
    "\n",
    "Typically, neural net language models are constructed and trained as probabilistic classifier's that learn to predict a probability distribution\n",
    "\n",
    "$$P(w_t | \\mathrm{context}) \\, \\forall t \\in V$$\n",
    "\n",
    "I.e., the network is trained to predict a probability distribution over the vocabulary, given some linguistic context. This is done using standard neural net training algorithms such as stochastic gradient descent with backpropagation. The context might be a fixed-size window of previous words, so that the network predicts\n",
    "\n",
    "$$P(w_t | w_{t-k}, \\dots, w_{t-1})$$\n",
    "\n",
    "from a feature vector representing the previous $k$ words. Another option is to use \"future\" words as well as \"past\" words as features, so that the estimated probability is\n",
    "\n",
    "$$P(w_t | w_{t-k}, \\dots, w_{t-1}, w_{t+1}, \\dots, w_{t+k})$$\n",
    "\n",
    "This is called a **bag-of-words** model. When the feature vectors for the words in the context are combined by a continuous operation, this model is referred to as the continuous bag-of-words architecture (CBOW).\n",
    "\n",
    "A third option that trains slower than the CBOW but performs slightly better is to invert the previous problem and make a neural network learn the context, given a word. More formally, given a sequence of training words $w_1, w_2, w_3, \\dots, w_T$, one maximizes the average log-probability\n",
    "\n",
    "$$\\frac{1}{T}\\sum_{t=1}^T \\sum_{-k \\leq j \\leq k, j \\neq 0} \\log P(w_{t+j} | w_t)$$\n",
    "\n",
    "where $k$, the size of the training context, can be a function of the center word $w_t$. This is called a **skip-gram** language model. Bag-of-words and skip-gram models are the basis of the word2vec word embedding model (First video of this section).\n",
    "\n",
    "Instead of using neural net language models to produce actual probabilities, it is common to instead use the distributed representation encoded in the networks' \"hidden\" layers as representations of words; each word is then mapped onto an $n$-dimensional real vector called the word embedding, where $n$ is the size of the layer just before the output layer. The representations in skip-gram models have the distinct characteristic that they model semantic relations between words as linear combinations, capturing a form of compositionality. For example, in some such models, if $v$ is the function that maps a word $w$ to its $n$-$d$ vector representation, then\n",
    "\n",
    "$$v(\\mathrm{king}) - v(\\mathrm{male}) + v(\\mathrm{female}) \\approx v(\\mathrm{queen})$$."
   ]
  },
  {
   "cell_type": "markdown",
   "metadata": {
    "colab_type": "text",
    "id": "BwpJ5IffzRG6"
   },
   "source": [
    "# Language model in Keras (Recurrent character-model)\n",
    "\n",
    "Lets train a language model, where a character-based recurrent neural network and sample from it to generate text similar to that from the corpus that we trained it on.\n",
    "\n",
    "Lets choose the corpus of [Shakespeare's writing](http://karpathy.github.io/2015/05/21/rnn-effectiveness/). Given a sequence of characters from this data (\"Shakespear\"), train a model to predict the next character in the sequence (\"e\"). Longer sequences of text can be generated by calling the model repeatedly.\n",
    "\n",
    "The following is sample output when the model in this tutorial trained for 30 epochs, and started with the string \"Q\":\n",
    "\n",
    "<pre>\n",
    "QUEENE:\n",
    "I had thought thou hadst a Roman; for the oracle,\n",
    "Thus by All bids the man against the word,\n",
    "Which are so weak of care, by old care done;\n",
    "Your children were in your holy love,\n",
    "And the precipitation through the bleeding throne.\n",
    "\n",
    "BISHOP OF ELY:\n",
    "Marry, and will, my lord, to weep in such a one were prettiest;\n",
    "Yet now I was adopted heir\n",
    "Of the world's lamentable day,\n",
    "To watch the next way with his father with his face?\n",
    "\n",
    "ESCALUS:\n",
    "The cause why then we are all resolved more sons.\n",
    "\n",
    "VOLUMNIA:\n",
    "O, no, no, no, no, no, no, no, no, no, no, no, no, no, no, no, no, no, no, no, no, it is no sin it should be dead,\n",
    "And love and pale as any will to that word.\n",
    "\n",
    "QUEEN ELIZABETH:\n",
    "But how long have I heard the soul for this world,\n",
    "And show his hands of life be proved to stand.\n",
    "\n",
    "PETRUCHIO:\n",
    "I say he look'd on, if I must be content\n",
    "To stay him from the fatal of our country's bliss.\n",
    "His lordship pluck'd from this sentence then for prey,\n",
    "And then let us twain, being the moon,\n",
    "were she such a case as fills m\n",
    "</pre>\n",
    "\n",
    "While some of the sentences are grammatical, most do not make sense. The model has not learned the meaning of words, but consider:\n",
    "\n",
    "* The model is character-based. When training started, the model did not know how to spell an English word, or that words were even a unit of text.\n",
    "* The structure of the output resembles a play—blocks of text generally begin with a speaker name, in all capital letters similar to the dataset.\n",
    "* As demonstrated below, the model is trained on small batches of text (100 characters each), and is still able to generate a longer sequence of text with coherent structure."
   ]
  },
  {
   "cell_type": "markdown",
   "metadata": {
    "colab_type": "text",
    "id": "EHDoRoc5PKWz"
   },
   "source": [
    "## Download the process the dataset"
   ]
  },
  {
   "cell_type": "code",
   "execution_count": 2,
   "metadata": {
    "colab": {},
    "colab_type": "code",
    "id": "pD_55cOxLkAb"
   },
   "outputs": [
    {
     "name": "stdout",
     "output_type": "stream",
     "text": [
      "Length of text: 1115394 characters\n",
      "65 unique characters\n",
      "\n",
      " First Citizen:\n",
      "Before we proceed any further, hear me speak.\n",
      "\n",
      "All:\n",
      "Speak, speak.\n",
      "\n",
      "First Citizen:\n",
      "You are all resolved rather to die than to famish?\n",
      "\n",
      "All:\n",
      "Resolved. resolved.\n",
      "\n",
      "First Citizen:\n",
      "First, you know Caius Marcius is chief enemy to the people.\n",
      "\n"
     ]
    }
   ],
   "source": [
    "path_to_file = tf.keras.utils.get_file(\n",
    "    'shakespeare.txt',\n",
    "    'https://storage.googleapis.com/download.tensorflow.org/data/shakespeare.txt')\n",
    "\n",
    "# We can look into the text\n",
    "text = open(path_to_file, 'rb').read().decode(encoding='utf-8')\n",
    "# length of text is the number of characters in it\n",
    "print('Length of text: {} characters'.format(len(text)))\n",
    "# The unique characters in the file\n",
    "vocab = sorted(set(text))\n",
    "print('{} unique characters'.format(len(vocab)))\n",
    "\n",
    "# Take a look at the first 250 characters in text\n",
    "print('\\n', text[:250])"
   ]
  },
  {
   "cell_type": "markdown",
   "metadata": {
    "colab_type": "text",
    "id": "rNnrKn_lL-IJ"
   },
   "source": [
    "## Process the text"
   ]
  },
  {
   "cell_type": "markdown",
   "metadata": {
    "colab_type": "text",
    "id": "LFjSVAlWzf-N"
   },
   "source": [
    "### Vectorize the text\n",
    "\n",
    "Before training, we need to map strings to a numerical representation. Create two lookup tables: one mapping characters to numbers, and another for numbers to characters."
   ]
  },
  {
   "cell_type": "code",
   "execution_count": 3,
   "metadata": {
    "colab": {},
    "colab_type": "code",
    "id": "IalZLbvOzf-F"
   },
   "outputs": [],
   "source": [
    "# Creating a mapping from unique characters to indices\n",
    "char2idx = {u: i for i, u in enumerate(vocab)}\n",
    "idx2char = np.array(vocab)\n",
    "\n",
    "text_as_int = np.array([char2idx[c] for c in text])"
   ]
  },
  {
   "cell_type": "markdown",
   "metadata": {
    "colab_type": "text",
    "id": "tZfqhkYCymwX"
   },
   "source": [
    "Now we have an integer representation for each character. Notice that we mapped the character as indexes from 0 to `len(unique)`."
   ]
  },
  {
   "cell_type": "code",
   "execution_count": 4,
   "metadata": {
    "colab": {},
    "colab_type": "code",
    "id": "FYyNlCNXymwY"
   },
   "outputs": [
    {
     "name": "stdout",
     "output_type": "stream",
     "text": [
      "{\n",
      "  '\\n':   0,\n",
      "  ' ' :   1,\n",
      "  '!' :   2,\n",
      "  '$' :   3,\n",
      "  '&' :   4,\n",
      "  \"'\" :   5,\n",
      "  ',' :   6,\n",
      "  '-' :   7,\n",
      "  '.' :   8,\n",
      "  '3' :   9,\n",
      "  ':' :  10,\n",
      "  ';' :  11,\n",
      "  '?' :  12,\n",
      "  'A' :  13,\n",
      "  'B' :  14,\n",
      "  'C' :  15,\n",
      "  'D' :  16,\n",
      "  'E' :  17,\n",
      "  'F' :  18,\n",
      "  'G' :  19,\n",
      "  ...\n",
      "}\n"
     ]
    }
   ],
   "source": [
    "print('{')\n",
    "for char, _ in zip(char2idx, range(20)):\n",
    "    print('  {:4s}: {:3d},'.format(repr(char), char2idx[char]))\n",
    "print('  ...\\n}')"
   ]
  },
  {
   "cell_type": "code",
   "execution_count": 5,
   "metadata": {
    "colab": {},
    "colab_type": "code",
    "id": "l1VKcQHcymwb"
   },
   "outputs": [
    {
     "name": "stdout",
     "output_type": "stream",
     "text": [
      "'First Citizen' ---- characters mapped to int ---- > [18 47 56 57 58  1 15 47 58 47 64 43 52]\n"
     ]
    }
   ],
   "source": [
    "# Show how the first 13 characters from the text are mapped to integers\n",
    "print(\n",
    "    '{} ---- characters mapped to int ---- > {}'.format(repr(text[:13]),\n",
    "                                                        text_as_int[:13]))"
   ]
  },
  {
   "cell_type": "markdown",
   "metadata": {
    "colab_type": "text",
    "id": "bbmsf23Bymwe"
   },
   "source": [
    "### The prediction task"
   ]
  },
  {
   "cell_type": "markdown",
   "metadata": {
    "colab_type": "text",
    "id": "wssHQ1oGymwe"
   },
   "source": [
    "Given a character, or a sequence of characters, what is the most probable next character? This is the task we're training the model to perform. The input to the model will be a sequence of characters, and we train the model to predict the output—the following character at each time step.\n",
    "\n",
    "Since RNNs maintain an internal state that depends on the previously seen elements, given all the characters computed until this moment, we can model what is the next character"
   ]
  },
  {
   "cell_type": "markdown",
   "metadata": {
    "colab_type": "text",
    "id": "hgsVvVxnymwf"
   },
   "source": [
    "### Create training examples and targets\n",
    "\n",
    "Next divide the text into example sequences. Each input sequence will contain `seq_length` characters from the text.\n",
    "\n",
    "For each input sequence, the corresponding targets contain the same length of text, except shifted one character to the right.\n",
    "\n",
    "So break the text into chunks of `seq_length+1`. For example, say `seq_length` is 4 and our text is \"Hello\". The input sequence would be \"Hell\", and the target sequence \"ello\".\n",
    "\n",
    "To do this first use the `tf.data.Dataset.from_tensor_slices` function to convert the text vector into a stream of character indices."
   ]
  },
  {
   "cell_type": "code",
   "execution_count": 6,
   "metadata": {
    "colab": {},
    "colab_type": "code",
    "id": "0UHJDA39zf-O"
   },
   "outputs": [
    {
     "name": "stdout",
     "output_type": "stream",
     "text": [
      "F\n",
      "i\n",
      "r\n",
      "s\n",
      "t\n"
     ]
    }
   ],
   "source": [
    "# The maximum length sentence we want for a single input in characters\n",
    "seq_length = 100\n",
    "examples_per_epoch = len(text)//(seq_length+1)\n",
    "\n",
    "# Create training examples / targets\n",
    "char_dataset = tf.data.Dataset.from_tensor_slices(text_as_int)\n",
    "\n",
    "for i in char_dataset.take(5):\n",
    "    print(idx2char[i.numpy()])"
   ]
  },
  {
   "cell_type": "markdown",
   "metadata": {
    "colab_type": "text",
    "id": "-ZSYAcQV8OGP"
   },
   "source": [
    "The `batch` method lets us easily convert these individual characters to sequences of the desired size."
   ]
  },
  {
   "cell_type": "code",
   "execution_count": 7,
   "metadata": {
    "colab": {},
    "colab_type": "code",
    "id": "l4hkDU3i7ozi"
   },
   "outputs": [
    {
     "name": "stdout",
     "output_type": "stream",
     "text": [
      "\n",
      " 'First Citizen:\\nBefore we proceed any further, hear me speak.\\n\\nAll:\\nSpeak, speak.\\n\\nFirst Citizen:\\nYou '\n",
      "\n",
      " 'are all resolved rather to die than to famish?\\n\\nAll:\\nResolved. resolved.\\n\\nFirst Citizen:\\nFirst, you k'\n",
      "\n",
      " \"now Caius Marcius is chief enemy to the people.\\n\\nAll:\\nWe know't, we know't.\\n\\nFirst Citizen:\\nLet us ki\"\n",
      "\n",
      " \"ll him, and we'll have corn at our own price.\\nIs't a verdict?\\n\\nAll:\\nNo more talking on't; let it be d\"\n",
      "\n",
      " 'one: away, away!\\n\\nSecond Citizen:\\nOne word, good citizens.\\n\\nFirst Citizen:\\nWe are accounted poor citi'\n"
     ]
    }
   ],
   "source": [
    "sequences = char_dataset.batch(seq_length+1, drop_remainder=True)\n",
    "\n",
    "for item in sequences.take(5):\n",
    "    print('\\n', repr(''.join(idx2char[item.numpy()])))"
   ]
  },
  {
   "cell_type": "markdown",
   "metadata": {
    "colab_type": "text",
    "id": "UbLcIPBj_mWZ"
   },
   "source": [
    "For each sequence, duplicate and shift it to form the input and target text by using the `map` method to apply a simple function to each batch:"
   ]
  },
  {
   "cell_type": "code",
   "execution_count": 8,
   "metadata": {
    "colab": {},
    "colab_type": "code",
    "id": "9NGu-FkO_kYU"
   },
   "outputs": [],
   "source": [
    "def split_input_target(chunk):\n",
    "    input_text = chunk[:-1]\n",
    "    target_text = chunk[1:]\n",
    "    return input_text, target_text\n",
    "\n",
    "\n",
    "dataset = sequences.map(split_input_target)"
   ]
  },
  {
   "cell_type": "markdown",
   "metadata": {
    "colab_type": "text",
    "id": "hiCopyGZymwi"
   },
   "source": [
    "Print the first examples input and target values:"
   ]
  },
  {
   "cell_type": "code",
   "execution_count": 9,
   "metadata": {
    "colab": {},
    "colab_type": "code",
    "id": "GNbw-iR0ymwj"
   },
   "outputs": [
    {
     "name": "stdout",
     "output_type": "stream",
     "text": [
      "Input data:  'First Citizen:\\nBefore we proceed any further, hear me speak.\\n\\nAll:\\nSpeak, speak.\\n\\nFirst Citizen:\\nYou'\n",
      "\n",
      "Target data: 'irst Citizen:\\nBefore we proceed any further, hear me speak.\\n\\nAll:\\nSpeak, speak.\\n\\nFirst Citizen:\\nYou '\n"
     ]
    }
   ],
   "source": [
    "for input_example, target_example in dataset.take(1):\n",
    "    print('Input data: ', repr(''.join(idx2char[input_example.numpy()])))\n",
    "    print('\\nTarget data:', repr(''.join(idx2char[target_example.numpy()])))"
   ]
  },
  {
   "cell_type": "markdown",
   "metadata": {
    "colab_type": "text",
    "id": "_33OHL3b84i0"
   },
   "source": [
    "Each index of these vectors are processed as one time step. For the input at time step 0, the model receives the index for \"F\" and trys to predict the index for \"i\" as the next character. At the next timestep, it does the same thing but the `RNN` considers the previous step context in addition to the current input character."
   ]
  },
  {
   "cell_type": "code",
   "execution_count": 10,
   "metadata": {
    "colab": {},
    "colab_type": "code",
    "id": "0eBu9WZG84i0"
   },
   "outputs": [
    {
     "name": "stdout",
     "output_type": "stream",
     "text": [
      "Step    0\n",
      "  input: 18 ('F')\n",
      "  expected output: 47 ('i')\n",
      "Step    1\n",
      "  input: 47 ('i')\n",
      "  expected output: 56 ('r')\n",
      "Step    2\n",
      "  input: 56 ('r')\n",
      "  expected output: 57 ('s')\n",
      "Step    3\n",
      "  input: 57 ('s')\n",
      "  expected output: 58 ('t')\n",
      "Step    4\n",
      "  input: 58 ('t')\n",
      "  expected output: 1 (' ')\n"
     ]
    }
   ],
   "source": [
    "for i, (input_idx, target_idx) in enumerate(zip(input_example[:5], target_example[:5])):\n",
    "    print(\"Step {:4d}\".format(i))\n",
    "    print(\"  input: {} ({:s})\".format(input_idx, repr(idx2char[input_idx])))\n",
    "    print(\"  expected output: {} ({:s})\".format(target_idx, repr(idx2char[target_idx])))"
   ]
  },
  {
   "cell_type": "markdown",
   "metadata": {
    "colab_type": "text",
    "id": "MJdfPmdqzf-R"
   },
   "source": [
    "### Create training batches\n",
    "\n",
    "We used `tf.data` to split the text into manageable sequences. But before feeding this data into the model, we need to shuffle the data and pack it into batches."
   ]
  },
  {
   "cell_type": "code",
   "execution_count": 11,
   "metadata": {
    "colab": {},
    "colab_type": "code",
    "id": "p2pGotuNzf-S"
   },
   "outputs": [],
   "source": [
    "# Batch size\n",
    "BATCH_SIZE = 64\n",
    "\n",
    "# Buffer size to shuffle the dataset\n",
    "# (TF data is designed to work with possibly infinite sequences,\n",
    "# so it doesn't attempt to shuffle the entire sequence in memory. Instead,\n",
    "# it maintains a buffer in which it shuffles elements).\n",
    "BUFFER_SIZE = 10000\n",
    "\n",
    "dataset = dataset.shuffle(BUFFER_SIZE).batch(BATCH_SIZE, drop_remainder=True)"
   ]
  },
  {
   "cell_type": "markdown",
   "metadata": {
    "colab_type": "text",
    "id": "r6oUuElIMgVx"
   },
   "source": [
    "## Build The Model"
   ]
  },
  {
   "cell_type": "markdown",
   "metadata": {
    "colab_type": "text",
    "id": "m8gPwEjRzf-Z"
   },
   "source": [
    "We will use the following:\n",
    "* `tf.keras.layers.Embedding`: The input layer. A trainable lookup table that will map the numbers of each character to a vector with `embedding_dim` dimensions;\n",
    "* `tf.keras.layers.LSTM`: As our recurrent language model\n",
    "* `tf.keras.layers.Dense`: The output layer, with `vocab_size` outputs."
   ]
  },
  {
   "cell_type": "code",
   "execution_count": 12,
   "metadata": {
    "colab": {},
    "colab_type": "code",
    "id": "zHT8cLh7EAsg"
   },
   "outputs": [],
   "source": [
    "# Length of the vocabulary in chars\n",
    "vocab_size = len(vocab)\n",
    "\n",
    "# The embedding dimension\n",
    "embedding_dim = 256\n",
    "\n",
    "# Number of RNN units\n",
    "rnn_units = 1024"
   ]
  },
  {
   "cell_type": "code",
   "execution_count": 13,
   "metadata": {
    "colab": {},
    "colab_type": "code",
    "id": "MtCrdfzEI2N0"
   },
   "outputs": [],
   "source": [
    "def build_model(vocab_size, embedding_dim, rnn_units, batch_size):\n",
    "    model = tf.keras.Sequential([\n",
    "        tf.keras.layers.Embedding(vocab_size, embedding_dim,\n",
    "                                  batch_input_shape=[batch_size, None]),\n",
    "        tf.keras.layers.LSTM(rnn_units,\n",
    "                             return_sequences=True,\n",
    "                             stateful=True,\n",
    "                             recurrent_initializer='glorot_uniform'),\n",
    "        tf.keras.layers.Dense(vocab_size)\n",
    "    ])\n",
    "    return model"
   ]
  },
  {
   "cell_type": "code",
   "execution_count": 14,
   "metadata": {
    "colab": {},
    "colab_type": "code",
    "id": "wwsrpOik5zhv"
   },
   "outputs": [],
   "source": [
    "model = build_model(\n",
    "    vocab_size=len(vocab),\n",
    "    embedding_dim=embedding_dim,\n",
    "    rnn_units=rnn_units,\n",
    "    batch_size=BATCH_SIZE)"
   ]
  },
  {
   "cell_type": "markdown",
   "metadata": {
    "colab_type": "text",
    "id": "-ubPo0_9Prjb"
   },
   "source": [
    "## Try the model\n",
    "\n",
    "Now run the model to see that it behaves as expected.\n",
    "\n",
    "First check the shape of the output:"
   ]
  },
  {
   "cell_type": "code",
   "execution_count": 15,
   "metadata": {
    "colab": {},
    "colab_type": "code",
    "id": "C-_70kKAPrPU"
   },
   "outputs": [
    {
     "name": "stdout",
     "output_type": "stream",
     "text": [
      "(64, 100, 65) # (batch_size, sequence_length, vocab_size)\n"
     ]
    }
   ],
   "source": [
    "for input_example_batch, target_example_batch in dataset.take(1):\n",
    "    example_batch_predictions = model(input_example_batch)\n",
    "    print(example_batch_predictions.shape,\n",
    "          \"# (batch_size, sequence_length, vocab_size)\")"
   ]
  },
  {
   "cell_type": "markdown",
   "metadata": {
    "colab_type": "text",
    "id": "Q6NzLBi4VM4o"
   },
   "source": [
    "In the above example the sequence length of the input is `100` but the model can be run on inputs of any length:"
   ]
  },
  {
   "cell_type": "code",
   "execution_count": 16,
   "metadata": {
    "colab": {},
    "colab_type": "code",
    "id": "vPGmAAXmVLGC"
   },
   "outputs": [
    {
     "name": "stdout",
     "output_type": "stream",
     "text": [
      "Model: \"sequential\"\n",
      "_________________________________________________________________\n",
      "Layer (type)                 Output Shape              Param #   \n",
      "=================================================================\n",
      "embedding (Embedding)        (64, None, 256)           16640     \n",
      "_________________________________________________________________\n",
      "lstm (LSTM)                  (64, None, 1024)          5246976   \n",
      "_________________________________________________________________\n",
      "dense (Dense)                (64, None, 65)            66625     \n",
      "=================================================================\n",
      "Total params: 5,330,241\n",
      "Trainable params: 5,330,241\n",
      "Non-trainable params: 0\n",
      "_________________________________________________________________\n"
     ]
    }
   ],
   "source": [
    "model.summary()"
   ]
  },
  {
   "cell_type": "markdown",
   "metadata": {
    "colab_type": "text",
    "id": "uwv0gEkURfx1"
   },
   "source": [
    "To get actual predictions from the model we need to sample from the output distribution, to get actual character indices. This distribution is defined by the logits over the character vocabulary.\n",
    "\n",
    "Note: It is important to _sample_ from this distribution as taking the _argmax_ of the distribution can easily get the model stuck in a loop.\n",
    "\n",
    "Try it for the first example in the batch:"
   ]
  },
  {
   "cell_type": "code",
   "execution_count": 17,
   "metadata": {
    "colab": {},
    "colab_type": "code",
    "id": "4V4MfFg0RQJg"
   },
   "outputs": [],
   "source": [
    "sampled_indices = tf.random.categorical(example_batch_predictions[0], num_samples=1)\n",
    "sampled_indices = tf.squeeze(sampled_indices,axis=-1).numpy()"
   ]
  },
  {
   "cell_type": "markdown",
   "metadata": {
    "colab_type": "text",
    "id": "QM1Vbxs_URw5"
   },
   "source": [
    "This gives us, at each timestep, a prediction of the next character index:"
   ]
  },
  {
   "cell_type": "code",
   "execution_count": 18,
   "metadata": {
    "colab": {},
    "colab_type": "code",
    "id": "YqFMUQc_UFgM"
   },
   "outputs": [
    {
     "data": {
      "text/plain": [
       "array([ 7, 15,  8, 17,  2, 24, 32, 11, 12, 61, 13, 40, 50, 42, 22, 24,  7,\n",
       "       49, 49, 12,  7, 33,  2, 31, 54, 27, 37,  9, 45, 53, 62,  5, 37, 48,\n",
       "       63,  8, 52, 59, 58, 11, 29, 30, 42, 20, 43, 32, 43, 35,  8,  0,  7,\n",
       "       56, 63, 16, 32, 52, 19, 13, 44, 16, 43, 30, 17, 64, 27, 59, 60, 23,\n",
       "       61, 22, 21, 57, 52,  1, 36, 60, 40, 49, 18, 58, 11, 21,  5, 61, 19,\n",
       "        6, 47, 60, 61,  8, 45, 37, 38,  8,  6, 60, 19, 26, 17, 23])"
      ]
     },
     "execution_count": 18,
     "metadata": {},
     "output_type": "execute_result"
    }
   ],
   "source": [
    "sampled_indices"
   ]
  },
  {
   "cell_type": "markdown",
   "metadata": {
    "colab_type": "text",
    "id": "LfLtsP3mUhCG"
   },
   "source": [
    "Decode these to see the text predicted by this untrained model:"
   ]
  },
  {
   "cell_type": "code",
   "execution_count": 19,
   "metadata": {
    "colab": {},
    "colab_type": "code",
    "id": "xWcFwPwLSo05"
   },
   "outputs": [
    {
     "name": "stdout",
     "output_type": "stream",
     "text": [
      "Input: \n",
      " 'ere well compounded.\\nMy sovereign liege, I do beseech your majesty\\nTo take our brother Clarence to y'\n",
      "\n",
      "Next Char Predictions: \n",
      " \"-C.E!LT;?wAbldJL-kk?-U!SpOY3gox'Yjy.nut;QRdHeTeW.\\n-ryDTnGAfDeREzOuvKwJIsn XvbkFt;I'wG,ivw.gYZ.,vGNEK\"\n"
     ]
    }
   ],
   "source": [
    "print(\"Input: \\n\", repr(\"\".join(idx2char[input_example_batch[0]])))\n",
    "print()\n",
    "print(\"Next Char Predictions: \\n\", repr(\"\".join(idx2char[sampled_indices ])))"
   ]
  },
  {
   "cell_type": "markdown",
   "metadata": {
    "colab_type": "text",
    "id": "LJL0Q0YPY6Ee"
   },
   "source": [
    "## Train the model"
   ]
  },
  {
   "cell_type": "markdown",
   "metadata": {
    "colab_type": "text",
    "id": "YCbHQHiaa4Ic"
   },
   "source": [
    "At this point the problem can be treated as a standard classification problem. Given the previous RNN state, and the input this time step, predict the class of the next character."
   ]
  },
  {
   "cell_type": "markdown",
   "metadata": {
    "colab_type": "text",
    "id": "trpqTWyvk0nr"
   },
   "source": [
    "### Attach an optimizer, and a loss function"
   ]
  },
  {
   "cell_type": "markdown",
   "metadata": {
    "colab_type": "text",
    "id": "UAjbjY03eiQ4"
   },
   "source": [
    "The standard `tf.keras.losses.sparse_categorical_crossentropy` loss function works in this case because it is applied across the last dimension of the predictions.\n",
    "\n",
    "Because our model returns logits, we need to set the `from_logits` flag.\n"
   ]
  },
  {
   "cell_type": "code",
   "execution_count": 20,
   "metadata": {
    "colab": {},
    "colab_type": "code",
    "id": "4HrXTACTdzY-"
   },
   "outputs": [
    {
     "name": "stdout",
     "output_type": "stream",
     "text": [
      "Prediction shape:  (64, 100, 65)  # (batch_size, sequence_length, vocab_size)\n",
      "scalar_loss:       4.1738253\n"
     ]
    }
   ],
   "source": [
    "def loss(labels, logits):\n",
    "    return tf.keras.losses.sparse_categorical_crossentropy(labels, logits, from_logits=True)\n",
    "\n",
    "\n",
    "example_batch_loss = loss(target_example_batch, example_batch_predictions)\n",
    "print(\"Prediction shape: \", example_batch_predictions.shape,\n",
    "      \" # (batch_size, sequence_length, vocab_size)\")\n",
    "print(\"scalar_loss:      \", example_batch_loss.numpy().mean())"
   ]
  },
  {
   "cell_type": "markdown",
   "metadata": {
    "colab_type": "text",
    "id": "jeOXriLcymww"
   },
   "source": [
    "Configure the training procedure using the `tf.keras.Model.compile` method. We'll use `tf.keras.optimizers.Adam` with default arguments and the loss function."
   ]
  },
  {
   "cell_type": "code",
   "execution_count": 21,
   "metadata": {
    "colab": {},
    "colab_type": "code",
    "id": "DDl1_Een6rL0"
   },
   "outputs": [],
   "source": [
    "model.compile(optimizer='adam', loss=loss)"
   ]
  },
  {
   "cell_type": "markdown",
   "metadata": {
    "colab_type": "text",
    "id": "ieSJdchZggUj"
   },
   "source": [
    "### Configure checkpoints"
   ]
  },
  {
   "cell_type": "markdown",
   "metadata": {
    "colab_type": "text",
    "id": "C6XBUUavgF56"
   },
   "source": [
    "Use a `tf.keras.callbacks.ModelCheckpoint` to ensure that checkpoints are saved during training\n",
    "\n",
    "We will also use early stopping during training"
   ]
  },
  {
   "cell_type": "code",
   "execution_count": 22,
   "metadata": {
    "colab": {},
    "colab_type": "code",
    "id": "W6fWTriUZP-n"
   },
   "outputs": [],
   "source": [
    "# Directory where the checkpoints will be saved\n",
    "checkpoint_dir = './training_checkpoints'\n",
    "# Name of the checkpoint files\n",
    "checkpoint_prefix = os.path.join(checkpoint_dir, \"ckpt_{epoch}\")\n",
    "\n",
    "checkpoint_callback=tf.keras.callbacks.ModelCheckpoint(\n",
    "    filepath=checkpoint_prefix,\n",
    "    save_weights_only=True)"
   ]
  },
  {
   "cell_type": "markdown",
   "metadata": {
    "colab_type": "text",
    "id": "3Ky3F_BhgkTW"
   },
   "source": [
    "### Execute the training"
   ]
  },
  {
   "cell_type": "code",
   "execution_count": 23,
   "metadata": {
    "colab": {},
    "colab_type": "code",
    "id": "UK-hmKjYVoll"
   },
   "outputs": [
    {
     "name": "stdout",
     "output_type": "stream",
     "text": [
      "Epoch 1/30\n",
      "172/172 [==============================] - 5s 29ms/step - loss: 2.5532\n",
      "Epoch 2/30\n",
      "172/172 [==============================] - 5s 28ms/step - loss: 1.8585\n",
      "Epoch 3/30\n",
      "172/172 [==============================] - 5s 29ms/step - loss: 1.6186\n",
      "Epoch 4/30\n",
      "172/172 [==============================] - 5s 28ms/step - loss: 1.4912\n",
      "Epoch 5/30\n",
      "172/172 [==============================] - 5s 28ms/step - loss: 1.4130\n",
      "Epoch 6/30\n",
      "172/172 [==============================] - 5s 29ms/step - loss: 1.3579\n",
      "Epoch 7/30\n",
      "172/172 [==============================] - 5s 29ms/step - loss: 1.3137\n",
      "Epoch 8/30\n",
      "172/172 [==============================] - 5s 29ms/step - loss: 1.2742\n",
      "Epoch 9/30\n",
      "172/172 [==============================] - 5s 29ms/step - loss: 1.2376\n",
      "Epoch 10/30\n",
      "172/172 [==============================] - 5s 29ms/step - loss: 1.2028\n",
      "Epoch 11/30\n",
      "172/172 [==============================] - 5s 29ms/step - loss: 1.1669\n",
      "Epoch 12/30\n",
      "172/172 [==============================] - 5s 29ms/step - loss: 1.1292\n",
      "Epoch 13/30\n",
      "172/172 [==============================] - 5s 29ms/step - loss: 1.0917\n",
      "Epoch 14/30\n",
      "172/172 [==============================] - 5s 29ms/step - loss: 1.0510\n",
      "Epoch 15/30\n",
      "172/172 [==============================] - 5s 29ms/step - loss: 1.0114\n",
      "Epoch 16/30\n",
      "172/172 [==============================] - 5s 29ms/step - loss: 0.9710\n",
      "Epoch 17/30\n",
      "172/172 [==============================] - 5s 29ms/step - loss: 0.9296\n",
      "Epoch 18/30\n",
      "172/172 [==============================] - 5s 29ms/step - loss: 0.8893\n",
      "Epoch 19/30\n",
      "172/172 [==============================] - 5s 29ms/step - loss: 0.8503\n",
      "Epoch 20/30\n",
      "172/172 [==============================] - 5s 29ms/step - loss: 0.8132\n",
      "Epoch 21/30\n",
      "172/172 [==============================] - 5s 29ms/step - loss: 0.7773\n",
      "Epoch 22/30\n",
      "172/172 [==============================] - 5s 29ms/step - loss: 0.7451\n",
      "Epoch 23/30\n",
      "172/172 [==============================] - 5s 29ms/step - loss: 0.7131\n",
      "Epoch 24/30\n",
      "172/172 [==============================] - 5s 29ms/step - loss: 0.6860\n",
      "Epoch 25/30\n",
      "172/172 [==============================] - 5s 29ms/step - loss: 0.6597\n",
      "Epoch 26/30\n",
      "172/172 [==============================] - 5s 29ms/step - loss: 0.6360\n",
      "Epoch 27/30\n",
      "172/172 [==============================] - 5s 29ms/step - loss: 0.6154\n",
      "Epoch 28/30\n",
      "172/172 [==============================] - 5s 29ms/step - loss: 0.5969\n",
      "Epoch 29/30\n",
      "172/172 [==============================] - 5s 29ms/step - loss: 0.5794\n",
      "Epoch 30/30\n",
      "172/172 [==============================] - 5s 29ms/step - loss: 0.5634\n"
     ]
    }
   ],
   "source": [
    "EPOCHS=30\n",
    "\n",
    "history = model.fit(dataset,\n",
    "                    epochs=EPOCHS,\n",
    "                    callbacks=[checkpoint_callback])"
   ]
  },
  {
   "cell_type": "code",
   "execution_count": 34,
   "metadata": {},
   "outputs": [
    {
     "data": {
      "image/png": "[encoded data removed]",
      "text/plain": [
       "<Figure size 648x648 with 1 Axes>"
      ]
     },
     "metadata": {
      "image/png": {
       "height": 612,
       "width": 583
      }
     },
     "output_type": "display_data"
    }
   ],
   "source": [
    "history_df = pd.DataFrame(history.history)\n",
    "history_df['epoch'] = history.epoch\n",
    "fig = plt.Figure(figsize=(15, 8))\n",
    "\n",
    "epochs_to_mean = 1\n",
    "\n",
    "plt.plot(history_df['loss'].rolling(epochs_to_mean).mean(), 'b')\n",
    "plt.suptitle('Learning Curve')\n",
    "plt.legend(['Training Loss'])\n",
    "plt.xlabel(\"Epoch\")\n",
    "plt.ylabel(\"Loss\")\n",
    "plt.show()"
   ]
  },
  {
   "cell_type": "markdown",
   "metadata": {
    "colab_type": "text",
    "id": "kKkD5M6eoSiN"
   },
   "source": [
    "## Generate text"
   ]
  },
  {
   "cell_type": "markdown",
   "metadata": {
    "colab_type": "text",
    "id": "JIPcXllKjkdr"
   },
   "source": [
    "### Restore the latest checkpoint"
   ]
  },
  {
   "cell_type": "markdown",
   "metadata": {
    "colab_type": "text",
    "id": "LyeYRiuVjodY"
   },
   "source": [
    "To keep this prediction step simple, use a batch size of 1.\n",
    "\n",
    "Because of the way the RNN state is passed from timestep to timestep, the model only accepts a fixed batch size once built.\n",
    "\n",
    "To run the model with a different `batch_size`, we need to rebuild the model and restore the weights from the checkpoint.\n"
   ]
  },
  {
   "cell_type": "code",
   "execution_count": 24,
   "metadata": {
    "colab": {},
    "colab_type": "code",
    "id": "zk2WJ2-XjkGz"
   },
   "outputs": [
    {
     "data": {
      "text/plain": [
       "'./training_checkpoints/ckpt_30'"
      ]
     },
     "execution_count": 24,
     "metadata": {},
     "output_type": "execute_result"
    }
   ],
   "source": [
    "tf.train.latest_checkpoint(checkpoint_dir)"
   ]
  },
  {
   "cell_type": "code",
   "execution_count": 25,
   "metadata": {
    "colab": {},
    "colab_type": "code",
    "id": "LycQ-ot_jjyu"
   },
   "outputs": [],
   "source": [
    "model = build_model(vocab_size, embedding_dim, rnn_units, batch_size=1)\n",
    "\n",
    "model.load_weights(tf.train.latest_checkpoint(checkpoint_dir))\n",
    "\n",
    "model.build(tf.TensorShape([1, None]))"
   ]
  },
  {
   "cell_type": "code",
   "execution_count": 26,
   "metadata": {
    "colab": {},
    "colab_type": "code",
    "id": "71xa6jnYVrAN"
   },
   "outputs": [
    {
     "name": "stdout",
     "output_type": "stream",
     "text": [
      "Model: \"sequential_1\"\n",
      "_________________________________________________________________\n",
      "Layer (type)                 Output Shape              Param #   \n",
      "=================================================================\n",
      "embedding_1 (Embedding)      (1, None, 256)            16640     \n",
      "_________________________________________________________________\n",
      "lstm_1 (LSTM)                (1, None, 1024)           5246976   \n",
      "_________________________________________________________________\n",
      "dense_1 (Dense)              (1, None, 65)             66625     \n",
      "=================================================================\n",
      "Total params: 5,330,241\n",
      "Trainable params: 5,330,241\n",
      "Non-trainable params: 0\n",
      "_________________________________________________________________\n"
     ]
    }
   ],
   "source": [
    "model.summary()"
   ]
  },
  {
   "cell_type": "markdown",
   "metadata": {
    "colab_type": "text",
    "id": "DjGz1tDkzf-u"
   },
   "source": [
    "### The prediction loop\n",
    "\n",
    "The following code block generates the text:\n",
    "\n",
    "* It Starts by choosing a start string, initializing the RNN state and setting the number of characters to generate.\n",
    "\n",
    "* Get the prediction distribution of the next character using the start string and the RNN state.\n",
    "\n",
    "* Then, use a categorical distribution to calculate the index of the predicted character. Use this predicted character as our next input to the model.\n",
    "\n",
    "* The RNN state returned by the model is fed back into the model so that it now has more context, instead than only one character. After predicting the next character, the modified RNN states are again fed back into the model, which is how it learns as it gets more context from the previously predicted characters.\n",
    "\n",
    "Looking at the generated text, we'll see the model knows when to capitalize, make paragraphs and imitates a Shakespeare-like writing vocabulary. With the small number of training epochs, it has not yet learned to form coherent sentences."
   ]
  },
  {
   "cell_type": "code",
   "execution_count": 40,
   "metadata": {
    "colab": {},
    "colab_type": "code",
    "id": "WvuwZBX5Ogfd"
   },
   "outputs": [],
   "source": [
    "def generate_text(model, start_string, temperature = 1.0):\n",
    "    # Evaluation step (generating text using the learned model)\n",
    "\n",
    "    # Number of characters to generate\n",
    "    num_generate = 1000\n",
    "\n",
    "    # Converting our start string to numbers (vectorizing)\n",
    "    input_eval = [char2idx[s] for s in start_string]\n",
    "    input_eval = tf.expand_dims(input_eval, 0)\n",
    "\n",
    "    # Empty string to store our results\n",
    "    text_generated = []\n",
    "\n",
    "    # Low temperatures results in more predictable text.\n",
    "    # Higher temperatures results in more surprising text.\n",
    "    # Experiment to find the best setting.\n",
    "\n",
    "    # Here batch size == 1\n",
    "    model.reset_states()\n",
    "    for i in range(num_generate):\n",
    "        predictions = model(input_eval)\n",
    "        # remove the batch dimension\n",
    "        predictions = tf.squeeze(predictions, 0)\n",
    "\n",
    "        # using a categorical distribution to predict the character returned by the model\n",
    "        predictions = predictions / temperature\n",
    "        predicted_id = tf.random.categorical(\n",
    "            predictions, num_samples=1)[-1, 0].numpy()\n",
    "\n",
    "        # We pass the predicted character as the next input to the model\n",
    "        # along with the previous hidden state\n",
    "        input_eval = tf.expand_dims([predicted_id], 0)\n",
    "\n",
    "        text_generated.append(idx2char[predicted_id])\n",
    "\n",
    "    return (start_string + ''.join(text_generated))"
   ]
  },
  {
   "cell_type": "code",
   "execution_count": 28,
   "metadata": {
    "colab": {},
    "colab_type": "code",
    "id": "ktovv0RFhrkn"
   },
   "outputs": [
    {
     "name": "stdout",
     "output_type": "stream",
     "text": [
      "ROMEO: ANTIUS:\n",
      "All is not pass'd with me double. Good, good nurse, and out of thy entrails\n",
      "Year boundy light: and more, sir; ask him,\n",
      "That think you yet?\n",
      "\n",
      "First Servingman:\n",
      "Art, mighty lier; thy house had I half my charge themselves.\n",
      "Witch the king doth quite black frozes my trust,\n",
      "Or lace I happy in the country, let him close,\n",
      "And smiles in them.\n",
      "\n",
      "LUCIO:\n",
      "I fear he with her breath.\n",
      "\n",
      "AUTOLYCUS:\n",
      "He hath ask it?\n",
      "The rest is so; there is no linger.\n",
      "\n",
      "KING EDWARD IV:\n",
      "Nay, let us better; it is not day is many of his morn.\n",
      "\n",
      "First Murderer:\n",
      "Warwick, shall all so early seen the truth.\n",
      "Would have you heard of such a discontented sixtern,\n",
      "I am not book in aftem the loss.\n",
      "\n",
      "Servant:\n",
      "My lord, this deadly well merry service.\n",
      "\n",
      "BAPTISTA:\n",
      "Why, here's a very needly.\n",
      "\n",
      "PROSPERO:\n",
      "Volunt,\n",
      "Are you a madam? True, I have offended me\n",
      "Aftend the Duke of Hortens.\n",
      "\n",
      "MERCIUS:\n",
      "I do do't, low it ce, 'manished;' that I say, that\n",
      "justice and help of heart\n",
      "Of my crown'd brother: if we do not ser;\n",
      "Plainly to him, and read\n",
      "Liffly n\n"
     ]
    }
   ],
   "source": [
    "print(generate_text(model, start_string=u\"ROMEO: \"))"
   ]
  },
  {
   "cell_type": "markdown",
   "metadata": {
    "colab_type": "text",
    "id": "AM2Uma_-yVIq"
   },
   "source": [
    "The easiest thing we can do to improve the results it to train it for longer.\n",
    "\n",
    "We can also experiment with a different start string, or try adding another RNN layer to improve the model's accuracy, or adjusting the temperature parameter to generate more or less random predictions."
   ]
  },
  {
   "cell_type": "markdown",
   "metadata": {
    "colab_type": "text",
    "id": "Y4QwTjAM6A2O"
   },
   "source": [
    "## Advanced: Customized Training\n",
    "\n",
    "The above training procedure is simple, but does not give us much control.\n",
    "\n",
    "So now that we've seen how to run the model manually let's unpack the training loop, and implement it ourselves. This gives a starting point if, for example, to implement _curriculum learning_ to help stabilize the model's open-loop output.\n",
    "\n",
    "We will use `tf.GradientTape` to track the gradients.\n",
    "\n",
    "The procedure works as follows:\n",
    "\n",
    "* First, initialize the RNN state. We do this by calling the `tf.keras.Model.reset_states` method.\n",
    "\n",
    "* Next, iterate over the dataset (batch by batch) and calculate the *predictions* associated with each.\n",
    "\n",
    "* Open a `tf.GradientTape`, and calculate the predictions and loss in that context.\n",
    "\n",
    "* Calculate the gradients of the loss with respect to the model variables using the `tf.GradientTape.grads` method.\n",
    "\n",
    "* Finally, take a step downwards by using the optimizer's `tf.train.Optimizer.apply_gradients` method.\n"
   ]
  },
  {
   "cell_type": "code",
   "execution_count": 35,
   "metadata": {
    "colab": {},
    "colab_type": "code",
    "id": "_XAm7eCoKULT"
   },
   "outputs": [],
   "source": [
    "model = build_model(\n",
    "  vocab_size = len(vocab),\n",
    "  embedding_dim=embedding_dim,\n",
    "  rnn_units=rnn_units,\n",
    "  batch_size=BATCH_SIZE)"
   ]
  },
  {
   "cell_type": "code",
   "execution_count": 36,
   "metadata": {
    "colab": {},
    "colab_type": "code",
    "id": "qUKhnZtMVpoJ"
   },
   "outputs": [],
   "source": [
    "optimizer = tf.keras.optimizers.Adam()"
   ]
  },
  {
   "cell_type": "code",
   "execution_count": 37,
   "metadata": {
    "colab": {},
    "colab_type": "code",
    "id": "b4kH1o0leVIp"
   },
   "outputs": [],
   "source": [
    "@tf.function\n",
    "def train_step(inp, target):\n",
    "    with tf.GradientTape() as tape:\n",
    "        predictions = model(inp)\n",
    "        loss = tf.reduce_mean(\n",
    "            tf.keras.losses.sparse_categorical_crossentropy(\n",
    "                target, predictions, from_logits=True))\n",
    "    grads = tape.gradient(loss, model.trainable_variables)\n",
    "    optimizer.apply_gradients(zip(grads, model.trainable_variables))\n",
    "\n",
    "    return loss"
   ]
  },
  {
   "cell_type": "code",
   "execution_count": 38,
   "metadata": {
    "colab": {},
    "colab_type": "code",
    "id": "d4tSNwymzf-q",
    "scrolled": true
   },
   "outputs": [
    {
     "name": "stdout",
     "output_type": "stream",
     "text": [
      "Epoch 1 Batch 0 Loss 4.174138069152832\n",
      "Epoch 1 Batch 100 Loss 2.2958357334136963\n",
      "Epoch 1 Loss 2.0846\n",
      "Time taken for 1 epoch 7.204745531082153 sec\n",
      "\n",
      "Epoch 2 Batch 0 Loss 2.2986528873443604\n",
      "Epoch 2 Batch 100 Loss 1.8473788499832153\n",
      "Epoch 2 Loss 1.7575\n",
      "Time taken for 1 epoch 5.828127145767212 sec\n",
      "\n",
      "Epoch 3 Batch 0 Loss 1.7117501497268677\n",
      "Epoch 3 Batch 100 Loss 1.6100497245788574\n",
      "Epoch 3 Loss 1.5299\n",
      "Time taken for 1 epoch 5.771391153335571 sec\n",
      "\n",
      "Epoch 4 Batch 0 Loss 1.554146409034729\n",
      "Epoch 4 Batch 100 Loss 1.4532296657562256\n",
      "Epoch 4 Loss 1.5037\n",
      "Time taken for 1 epoch 5.78882098197937 sec\n",
      "\n",
      "Epoch 5 Batch 0 Loss 1.387317180633545\n",
      "Epoch 5 Batch 100 Loss 1.4342255592346191\n",
      "Epoch 5 Loss 1.3903\n",
      "Time taken for 1 epoch 5.955039739608765 sec\n",
      "\n",
      "Epoch 6 Batch 0 Loss 1.3719595670700073\n",
      "Epoch 6 Batch 100 Loss 1.4039825201034546\n",
      "Epoch 6 Loss 1.3723\n",
      "Time taken for 1 epoch 5.8483545780181885 sec\n",
      "\n",
      "Epoch 7 Batch 0 Loss 1.3271784782409668\n",
      "Epoch 7 Batch 100 Loss 1.3509570360183716\n",
      "Epoch 7 Loss 1.3255\n",
      "Time taken for 1 epoch 5.856107473373413 sec\n",
      "\n",
      "Epoch 8 Batch 0 Loss 1.2843366861343384\n",
      "Epoch 8 Batch 100 Loss 1.2863495349884033\n",
      "Epoch 8 Loss 1.2372\n",
      "Time taken for 1 epoch 5.801182508468628 sec\n",
      "\n",
      "Epoch 9 Batch 0 Loss 1.1907312870025635\n",
      "Epoch 9 Batch 100 Loss 1.2473607063293457\n",
      "Epoch 9 Loss 1.2818\n",
      "Time taken for 1 epoch 5.804610729217529 sec\n",
      "\n",
      "Epoch 10 Batch 0 Loss 1.1930127143859863\n",
      "Epoch 10 Batch 100 Loss 1.1952422857284546\n",
      "Epoch 10 Loss 1.1663\n",
      "Time taken for 1 epoch 5.880456924438477 sec\n",
      "\n",
      "Epoch 11 Batch 0 Loss 1.1284557580947876\n",
      "Epoch 11 Batch 100 Loss 1.1646111011505127\n",
      "Epoch 11 Loss 1.2202\n",
      "Time taken for 1 epoch 5.831844329833984 sec\n",
      "\n",
      "Epoch 12 Batch 0 Loss 1.0932878255844116\n",
      "Epoch 12 Batch 100 Loss 1.1376447677612305\n",
      "Epoch 12 Loss 1.1680\n",
      "Time taken for 1 epoch 5.787471294403076 sec\n",
      "\n",
      "Epoch 13 Batch 0 Loss 1.0967423915863037\n",
      "Epoch 13 Batch 100 Loss 1.1255106925964355\n",
      "Epoch 13 Loss 1.1182\n",
      "Time taken for 1 epoch 5.789393186569214 sec\n",
      "\n",
      "Epoch 14 Batch 0 Loss 0.987872302532196\n",
      "Epoch 14 Batch 100 Loss 1.0737413167953491\n",
      "Epoch 14 Loss 1.0911\n",
      "Time taken for 1 epoch 5.893277406692505 sec\n",
      "\n",
      "Epoch 15 Batch 0 Loss 0.9609271287918091\n",
      "Epoch 15 Batch 100 Loss 1.0192848443984985\n",
      "Epoch 15 Loss 1.0532\n",
      "Time taken for 1 epoch 5.902050018310547 sec\n",
      "\n",
      "Epoch 16 Batch 0 Loss 0.9008362293243408\n",
      "Epoch 16 Batch 100 Loss 1.0113738775253296\n",
      "Epoch 16 Loss 0.9941\n",
      "Time taken for 1 epoch 5.908022403717041 sec\n",
      "\n",
      "Epoch 17 Batch 0 Loss 0.8935628533363342\n",
      "Epoch 17 Batch 100 Loss 0.9759278297424316\n",
      "Epoch 17 Loss 0.9868\n",
      "Time taken for 1 epoch 5.775949001312256 sec\n",
      "\n",
      "Epoch 18 Batch 0 Loss 0.8331724405288696\n",
      "Epoch 18 Batch 100 Loss 0.886676549911499\n",
      "Epoch 18 Loss 0.9209\n",
      "Time taken for 1 epoch 5.762309551239014 sec\n",
      "\n",
      "Epoch 19 Batch 0 Loss 0.8062330484390259\n",
      "Epoch 19 Batch 100 Loss 0.8864091634750366\n",
      "Epoch 19 Loss 0.8714\n",
      "Time taken for 1 epoch 5.783716917037964 sec\n",
      "\n",
      "Epoch 20 Batch 0 Loss 0.7440791130065918\n",
      "Epoch 20 Batch 100 Loss 0.8515856862068176\n",
      "Epoch 20 Loss 0.8685\n",
      "Time taken for 1 epoch 5.907041549682617 sec\n",
      "\n",
      "Epoch 21 Batch 0 Loss 0.7105807662010193\n",
      "Epoch 21 Batch 100 Loss 0.8099894523620605\n",
      "Epoch 21 Loss 0.8350\n",
      "Time taken for 1 epoch 5.787277698516846 sec\n",
      "\n",
      "Epoch 22 Batch 0 Loss 0.6799381971359253\n",
      "Epoch 22 Batch 100 Loss 0.7747486233711243\n",
      "Epoch 22 Loss 0.8213\n",
      "Time taken for 1 epoch 5.8881402015686035 sec\n",
      "\n",
      "Epoch 23 Batch 0 Loss 0.6408963203430176\n",
      "Epoch 23 Batch 100 Loss 0.7359310984611511\n",
      "Epoch 23 Loss 0.7703\n",
      "Time taken for 1 epoch 5.858000040054321 sec\n",
      "\n",
      "Epoch 24 Batch 0 Loss 0.6137924194335938\n",
      "Epoch 24 Batch 100 Loss 0.736530065536499\n",
      "Epoch 24 Loss 0.7369\n",
      "Time taken for 1 epoch 5.78313422203064 sec\n",
      "\n",
      "Epoch 25 Batch 0 Loss 0.5981380939483643\n",
      "Epoch 25 Batch 100 Loss 0.6946234107017517\n",
      "Epoch 25 Loss 0.7191\n",
      "Time taken for 1 epoch 5.888270139694214 sec\n",
      "\n",
      "Epoch 26 Batch 0 Loss 0.568606972694397\n",
      "Epoch 26 Batch 100 Loss 0.6685869693756104\n",
      "Epoch 26 Loss 0.6860\n",
      "Time taken for 1 epoch 5.786810636520386 sec\n",
      "\n",
      "Epoch 27 Batch 0 Loss 0.5414884090423584\n",
      "Epoch 27 Batch 100 Loss 0.6307904720306396\n",
      "Epoch 27 Loss 0.6669\n",
      "Time taken for 1 epoch 5.754628658294678 sec\n",
      "\n",
      "Epoch 28 Batch 0 Loss 0.5398392677307129\n",
      "Epoch 28 Batch 100 Loss 0.6223853826522827\n",
      "Epoch 28 Loss 0.6412\n",
      "Time taken for 1 epoch 5.757076978683472 sec\n",
      "\n",
      "Epoch 29 Batch 0 Loss 0.5007768273353577\n",
      "Epoch 29 Batch 100 Loss 0.5830847024917603\n",
      "Epoch 29 Loss 0.6237\n",
      "Time taken for 1 epoch 5.813002347946167 sec\n",
      "\n",
      "Epoch 30 Batch 0 Loss 0.4876802861690521\n",
      "Epoch 30 Batch 100 Loss 0.5815946459770203\n",
      "Epoch 30 Loss 0.6170\n",
      "Time taken for 1 epoch 5.864170074462891 sec\n",
      "\n"
     ]
    }
   ],
   "source": [
    "# Training step\n",
    "EPOCHS = 30\n",
    "\n",
    "for epoch in range(EPOCHS):\n",
    "    start = time.time()\n",
    "\n",
    "    # initializing the hidden state at the start of every epoch\n",
    "    # initally hidden is None\n",
    "    hidden = model.reset_states()\n",
    "\n",
    "    for (batch_n, (inp, target)) in enumerate(dataset):\n",
    "        loss = train_step(inp, target)\n",
    "\n",
    "        if batch_n % 100 == 0:\n",
    "            template = 'Epoch {} Batch {} Loss {}'\n",
    "            print(template.format(epoch+1, batch_n, loss))\n",
    "\n",
    "    # saving (checkpoint) the model every 5 epochs\n",
    "    if (epoch + 1) % 5 == 0:\n",
    "        model.save_weights(checkpoint_prefix.format(epoch=epoch))\n",
    "\n",
    "    print('Epoch {} Loss {:.4f}'.format(epoch+1, loss))\n",
    "    print('Time taken for 1 epoch {} sec\\n'.format(time.time() - start))\n",
    "\n",
    "model.save_weights(checkpoint_prefix.format(epoch=epoch))"
   ]
  },
  {
   "cell_type": "code",
   "execution_count": 44,
   "metadata": {},
   "outputs": [
    {
     "name": "stdout",
     "output_type": "stream",
     "text": [
      "Model: \"sequential_4\"\n",
      "_________________________________________________________________\n",
      "Layer (type)                 Output Shape              Param #   \n",
      "=================================================================\n",
      "embedding_4 (Embedding)      (1, None, 256)            16640     \n",
      "_________________________________________________________________\n",
      "lstm_4 (LSTM)                (1, None, 1024)           5246976   \n",
      "_________________________________________________________________\n",
      "dense_4 (Dense)              (1, None, 65)             66625     \n",
      "=================================================================\n",
      "Total params: 5,330,241\n",
      "Trainable params: 5,330,241\n",
      "Non-trainable params: 0\n",
      "_________________________________________________________________\n"
     ]
    }
   ],
   "source": [
    "model = build_model(vocab_size, embedding_dim, rnn_units, batch_size=1)\n",
    "\n",
    "model.load_weights(tf.train.latest_checkpoint(checkpoint_dir))\n",
    "\n",
    "model.build(tf.TensorShape([1, None]))\n",
    "\n",
    "model.summary()"
   ]
  },
  {
   "cell_type": "code",
   "execution_count": 45,
   "metadata": {},
   "outputs": [
    {
     "name": "stdout",
     "output_type": "stream",
     "text": [
      "ROMEO: alone, or seven and sullen,\n",
      "And all those swifting for his trade; pardon not for Venice,\n",
      "Thy kingdom to-morrow, not newly queen.\n",
      "\n",
      "HENRY BOLINGBROKE:\n",
      "How long a high may do me quaitful service, holy\n",
      "flowers, what with a double roots?\n",
      "I know her by the matter to you.\n",
      "\n",
      "Messenger:\n",
      "The empty hasten of one word,\n",
      "Which e deformed\n",
      "but time-wind haught.\n",
      "I know you well desoredued.\n",
      "\n",
      "LEONTES:\n",
      "A grace\n",
      "As 'twere not so residence: changed and prick,\n",
      "And tied to wor, and that he diddemant cloaks\n",
      "At war's with kiss'd; and thereto yours,\n",
      "No murderer, take my father with herves; who has but two incline,\n",
      "Look that same\n",
      "wonder applies them; but that his beame forget; the baught rich blasks,\n",
      "The slaughter'd moon, the weaks raishop'd ille, ha' the other death\n",
      "Was won the shore; who, I had fight, if there refuse\n",
      "In satisfalling in the world,\n",
      "Sometime in view,\n",
      "Yet here return atter Floof were, in the\n",
      "bolled mumour, that I have took do him rd\n",
      "Is disposition of the mind.\n",
      "\n",
      "CLAUDIO:\n",
      "But since it prisoner of our w\n"
     ]
    }
   ],
   "source": [
    "print(generate_text(model, start_string=u\"ROMEO: \"))"
   ]
  },
  {
   "cell_type": "code",
   "execution_count": 48,
   "metadata": {},
   "outputs": [
    {
     "name": "stdout",
     "output_type": "stream",
     "text": [
      "ROMEO: if thou doubt it, but to charge you, let me now\n",
      "And I'll be sworn you would believe my son,\n",
      "The sons of leads he makes a merry man,\n",
      "Her father's love and Warwick's frowns where now with rotten full of spleen;\n",
      "For, by the world, that thou hast made them say,\n",
      "I was too strict to make the best friars of thee.\n",
      "\n",
      "KING RICHARD II:\n",
      "We will demand of service.\n",
      "\n",
      "DUKE VINCENTIO:\n",
      "I know you fear.\n",
      "\n",
      "LUCIO:\n",
      "I warrant it is: and that I would wish him to be married,\n",
      "That thou hast slander'd it.\n",
      "\n",
      "CLARENCE:\n",
      "\n",
      "LUCENTIO:\n",
      "And what of him, Tranio?\n",
      "\n",
      "TRANIO:\n",
      "I pray, sir, change you; stay awhile, but come now to be\n",
      "discover: therefore hence with some and heir.\n",
      "What, art thou ashamed of me?\n",
      "\n",
      "KATHARINA:\n",
      "No sort, my lord; and go along with me.\n",
      "\n",
      "GLOUCESTER:\n",
      "\n",
      "KING EDWARD IV:\n",
      "Why, then thou hast not, stay awhile to bed,\n",
      "Wrapp'd in sweet water and harden thou shalt have it.\n",
      "\n",
      "GLOUCESTER:\n",
      "I know not whether to depart in silence,\n",
      "Or bitterly to speak in your reproof.\n",
      "Best fit it in the middle of a word,\n",
      "And then doth sound\n"
     ]
    }
   ],
   "source": [
    "# Low temperatures result in more predictable text\n",
    "print(generate_text(model, start_string=u\"ROMEO: \", temperature=0.01))"
   ]
  },
  {
   "cell_type": "code",
   "execution_count": 53,
   "metadata": {},
   "outputs": [
    {
     "name": "stdout",
     "output_type": "stream",
     "text": [
      "ROMEO: st becomes that varour.\n",
      "Farewell, dear laward Hark-bewilt him: te drunk in the\n",
      "like, the plands and burning for our hears no more.\n",
      "Go work of generame,\n",
      "To kings there by proud advice,\n",
      "For it was ever many of all hencefortile mount, gun,\n",
      "Take up mine whom I am long Huntentious lumb.\n",
      "Lords, goodman noto perform'd, be not already.\n",
      "\n",
      "MENENIUS:\n",
      "Whate'er I beseech you, sir, not I'll unfold.\n",
      "\n",
      "BISHOP OF CARLISLE:\n",
      "As stronger, to missauge, lest foot any gain of others, careless of our mistresse is madeve upon the form as lies abroad; much lew thee toward her:\n",
      "'ll mere choked that blow for this,\n",
      "Lest on his wives, your babe, would do guess\n",
      "Nothine ob the least. But\n",
      "who censures here with me to speak, I fear my obsequious!\n",
      "\n",
      "VOLUMNIA:\n",
      "O, 'tis I am no villain!\n",
      "\n",
      "PROSPERO:\n",
      "He cannot, tell me, hath gone so,\n",
      "Let him be marrield; 'Hict of Napleh, him,\n",
      "For neither heart-davonvers twenty summers.\n",
      "What glough ere you take at at home for Edwardf'st,\n",
      "Yet Edward's sun is flight, and thound Roman times.\n",
      "\n",
      "OXFORD\n"
     ]
    }
   ],
   "source": [
    "# Higher temperatures result in more random (suprising) text\n",
    "print(generate_text(model, start_string=u\"ROMEO: \", temperature=1.2))"
   ]
  },
  {
   "cell_type": "markdown",
   "metadata": {},
   "source": [
    "We could also try improving our language model with stacking two LSTM layers, and using the bidirectional RNN wrapper layer. These are done in practice."
   ]
  }
 ],
 "metadata": {
  "kernelspec": {
   "display_name": "Environment (conda_tensorflow2_p36)",
   "language": "python",
   "name": "conda_tensorflow2_p36"
  },
  "language_info": {
   "codemirror_mode": {
    "name": "ipython",
    "version": 3
   },
   "file_extension": ".py",
   "mimetype": "text/x-python",
   "name": "python",
   "nbconvert_exporter": "python",
   "pygments_lexer": "ipython3",
   "version": "3.6.10"
  }
 },
 "nbformat": 4,
 "nbformat_minor": 4
}
