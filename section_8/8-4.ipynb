{
 "cells": [
  {
   "cell_type": "code",
   "execution_count": null,
   "metadata": {},
   "outputs": [],
   "source": [
    "%config IPCompleter.greedy = True\n",
    "%config InlineBackend.figure_format = 'retina'\n",
    "%matplotlib inline\n",
    "%load_ext tensorboard\n",
    "\n",
    "# !sudo apt-get install -y xvfb ffmpeg\n",
    "# !pip install 'xvfbwrapper==0.2.9'\n",
    "# !pip install 'gym==0.10.11'\n",
    "# !pip install 'imageio==2.4.0'\n",
    "# !pip install PILLOW\n",
    "# !pip install 'pyglet==1.3.2'\n",
    "# !pip install pyvirtualdisplay\n",
    "# !pip install tf-agents\n",
    "# !pip install gast\n",
    "\n",
    "import matplotlib.pyplot as plt\n",
    "import matplotlib\n",
    "import numpy as np\n",
    "import pandas as pd\n",
    "import seaborn as sn\n",
    "import tensorflow as tf\n",
    "import os\n",
    "from datetime import datetime\n",
    "import tensorflow as tf\n",
    "import sklearn\n",
    "\n",
    "import abc\n",
    "import base64\n",
    "import imageio\n",
    "import io\n",
    "import IPython\n",
    "import numpy as np\n",
    "import PIL.Image\n",
    "import pyvirtualdisplay\n",
    "import tensorflow_probability as tfp\n",
    "import numpy as np\n",
    "import shutil\n",
    "import tempfile\n",
    "import zipfile\n",
    "\n",
    "pd.set_option('mode.chained_assignment', None)\n",
    "sn.set(rc={'figure.figsize':(9,9)})\n",
    "sn.set(font_scale=1.4)\n",
    "\n",
    "# make results reproducible\n",
    "seed = 0\n",
    "np.random.seed(seed)\n",
    "tf.random.set_seed(13)"
   ]
  },
  {
   "cell_type": "markdown",
   "metadata": {},
   "source": [
    "# Value and Policy based methods\n",
    "\n",
    "So far we have looked at value based methods, or approaches to reinforcement learning, such as DQN methods. Let us now look at policy based methods, such as PPO.\n",
    "\n",
    "\n",
    "# PPO\n",
    "\n",
    "\n",
    "# Code & Theory\n",
    "\n",
    "\n",
    "# Training one in TF-agents"
   ]
  },
  {
   "cell_type": "code",
   "execution_count": null,
   "metadata": {},
   "outputs": [],
   "source": []
  }
 ],
 "metadata": {
  "kernelspec": {
   "display_name": "Environment (conda_tensorflow2_p36)",
   "language": "python",
   "name": "conda_tensorflow2_p36"
  },
  "language_info": {
   "codemirror_mode": {
    "name": "ipython",
    "version": 3
   },
   "file_extension": ".py",
   "mimetype": "text/x-python",
   "name": "python",
   "nbconvert_exporter": "python",
   "pygments_lexer": "ipython3",
   "version": "3.6.10"
  }
 },
 "nbformat": 4,
 "nbformat_minor": 4
}
